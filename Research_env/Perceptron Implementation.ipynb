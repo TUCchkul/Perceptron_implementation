{
 "cells": [
  {
   "cell_type": "code",
   "execution_count": 16,
   "id": "95250ee6",
   "metadata": {},
   "outputs": [
    {
     "name": "stdout",
     "output_type": "stream",
     "text": [
      "Requirement already satisfied: joblib in d:\\download software\\object detection\\deep learning\\day_02\\perceptron_implementation\\env\\lib\\site-packages (1.1.0)\n"
     ]
    }
   ],
   "source": [
    "import os\n",
    "import matplotlib.pyplot as plt\n",
    "!pip install joblib\n",
    "import joblib\n",
    "import numpy as np\n",
    "import pandas as pd\n",
    "plt.style.use(\"fivethirtyeight\")"
   ]
  },
  {
   "cell_type": "code",
   "execution_count": 45,
   "id": "865b893d",
   "metadata": {},
   "outputs": [],
   "source": [
    "class Perceptron:\n",
    "    def __init__(self, eta: float=None, epochs: int=None):\n",
    "        self.weights=np.random.randn(3)*1e-4\n",
    "        self.eta=eta#learning rate\n",
    "        self.epochs=epochs#iteration\n",
    "    def _z_outcome(self, inputs, weights):\n",
    "        return np.dot(inputs, weights)\n",
    "    def activation_function(self,z):\n",
    "        return np.where(z > 0, 1, 0)\n",
    "    def fit(self, X, y):\n",
    "        self.X=X\n",
    "        self.y=y\n",
    "        \n",
    "        X_with_bias=np.c_[self.X, -np.ones((len(self.X),1))]\n",
    "        print(f\"X with bias: \\n{X_with_bias}\")\n",
    "        for epoch in range(self.epochs):\n",
    "            print(\"--\"*10)\n",
    "            print(f\"for epoch >>{epoch +1}\")\n",
    "            print(\"--\"*10)\n",
    "            \n",
    "            z=self._z_outcome(X_with_bias, self.weights)\n",
    "            y_hat=self.activation_function(z)\n",
    "            print(f\"predicted value after forward pass: \\n{y_hat}\")\n",
    "            self.error=self.y-y_hat\n",
    "            print(f\"error: \\n{self.error}\")\n",
    "            self.weights=self.weights+self.eta*np.dot(X_with_bias.T, self.error)\n",
    "            print(f\"updated weights after epoch: {epoch +1}/{self.epochs}: \\n{self.weights}\")\n",
    "            print(f\"##\"*10)\n",
    "            \n",
    "    def predict(self, X):\n",
    "        X_with_bias=np.c_[X, -np.ones((len(X),1))]\n",
    "        z=self._z_outcome(X_with_bias,self.weights)\n",
    "        return self.activation_function(z)"
   ]
  },
  {
   "cell_type": "code",
   "execution_count": 46,
   "id": "6d040cab",
   "metadata": {},
   "outputs": [],
   "source": [
    "OR={\"x1\":[0,0,1,1],\n",
    "   \"X2\":[0,1,0,1],\n",
    "   \"y\":[0,1,1,1]\n",
    "   }\n",
    "df_OR=pd.DataFrame(OR)"
   ]
  },
  {
   "cell_type": "code",
   "execution_count": 47,
   "id": "9f6b124c",
   "metadata": {},
   "outputs": [
    {
     "data": {
      "text/html": [
       "<div>\n",
       "<style scoped>\n",
       "    .dataframe tbody tr th:only-of-type {\n",
       "        vertical-align: middle;\n",
       "    }\n",
       "\n",
       "    .dataframe tbody tr th {\n",
       "        vertical-align: top;\n",
       "    }\n",
       "\n",
       "    .dataframe thead th {\n",
       "        text-align: right;\n",
       "    }\n",
       "</style>\n",
       "<table border=\"1\" class=\"dataframe\">\n",
       "  <thead>\n",
       "    <tr style=\"text-align: right;\">\n",
       "      <th></th>\n",
       "      <th>x1</th>\n",
       "      <th>X2</th>\n",
       "      <th>y</th>\n",
       "    </tr>\n",
       "  </thead>\n",
       "  <tbody>\n",
       "    <tr>\n",
       "      <th>0</th>\n",
       "      <td>0</td>\n",
       "      <td>0</td>\n",
       "      <td>0</td>\n",
       "    </tr>\n",
       "    <tr>\n",
       "      <th>1</th>\n",
       "      <td>0</td>\n",
       "      <td>1</td>\n",
       "      <td>1</td>\n",
       "    </tr>\n",
       "    <tr>\n",
       "      <th>2</th>\n",
       "      <td>1</td>\n",
       "      <td>0</td>\n",
       "      <td>1</td>\n",
       "    </tr>\n",
       "    <tr>\n",
       "      <th>3</th>\n",
       "      <td>1</td>\n",
       "      <td>1</td>\n",
       "      <td>1</td>\n",
       "    </tr>\n",
       "  </tbody>\n",
       "</table>\n",
       "</div>"
      ],
      "text/plain": [
       "   x1  X2  y\n",
       "0   0   0  0\n",
       "1   0   1  1\n",
       "2   1   0  1\n",
       "3   1   1  1"
      ]
     },
     "execution_count": 47,
     "metadata": {},
     "output_type": "execute_result"
    }
   ],
   "source": [
    "df_OR"
   ]
  },
  {
   "cell_type": "code",
   "execution_count": 48,
   "id": "b66053b4",
   "metadata": {},
   "outputs": [],
   "source": [
    "def prepare_data(df, target_col='y'):\n",
    "    X=df.drop(target_col,axis=1)\n",
    "    y=df[target_col]\n",
    "    return X,y"
   ]
  },
  {
   "cell_type": "code",
   "execution_count": 49,
   "id": "84b54041",
   "metadata": {},
   "outputs": [
    {
     "name": "stdout",
     "output_type": "stream",
     "text": [
      "X with bias: \n",
      "[[ 0.  0. -1.]\n",
      " [ 0.  1. -1.]\n",
      " [ 1.  0. -1.]\n",
      " [ 1.  1. -1.]]\n",
      "--------------------\n",
      "for epoch >>1\n",
      "--------------------\n",
      "predicted value after forward pass: \n",
      "[1 1 1 1]\n",
      "error: \n",
      "0   -1\n",
      "1    0\n",
      "2    0\n",
      "3    0\n",
      "Name: y, dtype: int64\n",
      "updated weights after epoch: 1/10: \n",
      "[-1.07255407e-05  1.06930821e-04  9.99802702e-02]\n",
      "####################\n",
      "--------------------\n",
      "for epoch >>2\n",
      "--------------------\n",
      "predicted value after forward pass: \n",
      "[0 0 0 0]\n",
      "error: \n",
      "0    0\n",
      "1    1\n",
      "2    1\n",
      "3    1\n",
      "Name: y, dtype: int64\n",
      "updated weights after epoch: 2/10: \n",
      "[ 0.19998927  0.20010693 -0.20001973]\n",
      "####################\n",
      "--------------------\n",
      "for epoch >>3\n",
      "--------------------\n",
      "predicted value after forward pass: \n",
      "[1 1 1 1]\n",
      "error: \n",
      "0   -1\n",
      "1    0\n",
      "2    0\n",
      "3    0\n",
      "Name: y, dtype: int64\n",
      "updated weights after epoch: 3/10: \n",
      "[ 0.19998927  0.20010693 -0.10001973]\n",
      "####################\n",
      "--------------------\n",
      "for epoch >>4\n",
      "--------------------\n",
      "predicted value after forward pass: \n",
      "[1 1 1 1]\n",
      "error: \n",
      "0   -1\n",
      "1    0\n",
      "2    0\n",
      "3    0\n",
      "Name: y, dtype: int64\n",
      "updated weights after epoch: 4/10: \n",
      "[ 1.99989274e-01  2.00106931e-01 -1.97298438e-05]\n",
      "####################\n",
      "--------------------\n",
      "for epoch >>5\n",
      "--------------------\n",
      "predicted value after forward pass: \n",
      "[1 1 1 1]\n",
      "error: \n",
      "0   -1\n",
      "1    0\n",
      "2    0\n",
      "3    0\n",
      "Name: y, dtype: int64\n",
      "updated weights after epoch: 5/10: \n",
      "[0.19998927 0.20010693 0.09998027]\n",
      "####################\n",
      "--------------------\n",
      "for epoch >>6\n",
      "--------------------\n",
      "predicted value after forward pass: \n",
      "[0 1 1 1]\n",
      "error: \n",
      "0    0\n",
      "1    0\n",
      "2    0\n",
      "3    0\n",
      "Name: y, dtype: int64\n",
      "updated weights after epoch: 6/10: \n",
      "[0.19998927 0.20010693 0.09998027]\n",
      "####################\n",
      "--------------------\n",
      "for epoch >>7\n",
      "--------------------\n",
      "predicted value after forward pass: \n",
      "[0 1 1 1]\n",
      "error: \n",
      "0    0\n",
      "1    0\n",
      "2    0\n",
      "3    0\n",
      "Name: y, dtype: int64\n",
      "updated weights after epoch: 7/10: \n",
      "[0.19998927 0.20010693 0.09998027]\n",
      "####################\n",
      "--------------------\n",
      "for epoch >>8\n",
      "--------------------\n",
      "predicted value after forward pass: \n",
      "[0 1 1 1]\n",
      "error: \n",
      "0    0\n",
      "1    0\n",
      "2    0\n",
      "3    0\n",
      "Name: y, dtype: int64\n",
      "updated weights after epoch: 8/10: \n",
      "[0.19998927 0.20010693 0.09998027]\n",
      "####################\n",
      "--------------------\n",
      "for epoch >>9\n",
      "--------------------\n",
      "predicted value after forward pass: \n",
      "[0 1 1 1]\n",
      "error: \n",
      "0    0\n",
      "1    0\n",
      "2    0\n",
      "3    0\n",
      "Name: y, dtype: int64\n",
      "updated weights after epoch: 9/10: \n",
      "[0.19998927 0.20010693 0.09998027]\n",
      "####################\n",
      "--------------------\n",
      "for epoch >>10\n",
      "--------------------\n",
      "predicted value after forward pass: \n",
      "[0 1 1 1]\n",
      "error: \n",
      "0    0\n",
      "1    0\n",
      "2    0\n",
      "3    0\n",
      "Name: y, dtype: int64\n",
      "updated weights after epoch: 10/10: \n",
      "[0.19998927 0.20010693 0.09998027]\n",
      "####################\n"
     ]
    }
   ],
   "source": [
    "X,y=prepare_data(df_OR)\n",
    "ETA=0.1\n",
    "EPOCHS=10\n",
    "model_or=Perceptron(eta=ETA, epochs=EPOCHS)\n",
    "model_or.fit(X,y)"
   ]
  },
  {
   "cell_type": "code",
   "execution_count": 39,
   "id": "0e5002d5",
   "metadata": {},
   "outputs": [
    {
     "data": {
      "text/plain": [
       "array([1])"
      ]
     },
     "execution_count": 39,
     "metadata": {},
     "output_type": "execute_result"
    }
   ],
   "source": [
    "model_or.predict(X=[[0,1]])"
   ]
  },
  {
   "cell_type": "code",
   "execution_count": 24,
   "id": "4599c3d4",
   "metadata": {},
   "outputs": [
    {
     "data": {
      "text/plain": [
       "0    0\n",
       "1    1\n",
       "2    1\n",
       "3    1\n",
       "Name: y, dtype: int64"
      ]
     },
     "execution_count": 24,
     "metadata": {},
     "output_type": "execute_result"
    }
   ],
   "source": [
    "y"
   ]
  },
  {
   "cell_type": "code",
   "execution_count": 4,
   "id": "79f1da18",
   "metadata": {},
   "outputs": [],
   "source": [
    "X=np.ones((4,2))"
   ]
  },
  {
   "cell_type": "code",
   "execution_count": 5,
   "id": "f325bb6d",
   "metadata": {},
   "outputs": [
    {
     "data": {
      "text/plain": [
       "array([[1., 1.],\n",
       "       [1., 1.],\n",
       "       [1., 1.],\n",
       "       [1., 1.]])"
      ]
     },
     "execution_count": 5,
     "metadata": {},
     "output_type": "execute_result"
    }
   ],
   "source": [
    "X"
   ]
  },
  {
   "cell_type": "code",
   "execution_count": 6,
   "id": "4ccab3e4",
   "metadata": {},
   "outputs": [
    {
     "data": {
      "text/plain": [
       "array([[ 1.,  1., -1.],\n",
       "       [ 1.,  1., -1.],\n",
       "       [ 1.,  1., -1.],\n",
       "       [ 1.,  1., -1.]])"
      ]
     },
     "execution_count": 6,
     "metadata": {},
     "output_type": "execute_result"
    }
   ],
   "source": [
    "np.c_[X, -np.ones((4,1))]"
   ]
  },
  {
   "cell_type": "code",
   "execution_count": null,
   "id": "f58bff4a",
   "metadata": {},
   "outputs": [],
   "source": []
  }
 ],
 "metadata": {
  "kernelspec": {
   "display_name": "Python 3 (ipykernel)",
   "language": "python",
   "name": "python3"
  },
  "language_info": {
   "codemirror_mode": {
    "name": "ipython",
    "version": 3
   },
   "file_extension": ".py",
   "mimetype": "text/x-python",
   "name": "python",
   "nbconvert_exporter": "python",
   "pygments_lexer": "ipython3",
   "version": "3.7.11"
  }
 },
 "nbformat": 4,
 "nbformat_minor": 5
}
